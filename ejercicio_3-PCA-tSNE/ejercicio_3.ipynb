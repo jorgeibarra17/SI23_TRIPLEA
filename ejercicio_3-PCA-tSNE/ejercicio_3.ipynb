{
 "cells": [
  {
   "attachments": {},
   "cell_type": "markdown",
   "metadata": {},
   "source": [
    "# Ejercicio 3: Reducción de dimensionalidad\n",
    "En este ejercicio exploraremos el uso de PCA labels t-SNE usando las librerias de scikit-learn. \n",
    "Específicamente, reduciremos la dimensionalidad de los datos para analizar cuando un tumor es benigno o maligno.\n",
    "\n",
    "Para entender el uso de estos metodos con scikit-learn, puedes consultar la documentación oficial de scikit-learn para [PCA](https://scikit-learn.org/stable/modules/generated/sklearn.decomposition.PCA.html)\n",
    "\n",
    "En este ejercicio:\n",
    "\n",
    "1. Utilizarás y explorarás un dataset de clasificación de tumores\n",
    "2. Implementarás la solución analítica de PCA\n",
    "3. Compararás tu solución con la implementación de scikit learn\n",
    "4. Utilizarás PCA para poder visualizar tus datos de 30 variables en 2 dimensiones\n",
    "5. Analizarás el uso de PCA para visualizar en 2 dimensiones, la predicción de un modelo de clasificación de 30 dimensiones\n",
    "\n",
    "\n",
    "## 1. Explorando tus datos\n",
    "En las siguientes celdas, cargamos el dataset que utilizamos en el ejercicio de regresión logística. Este es un conjunto de datos de clasificación, donde cada punto tiene 30 atributos o variables de entrada. Corre la siguiente celda para cargar el dataset y separar los datos en entrenamiento y prueba."
   ]
  },
  {
   "cell_type": "code",
   "execution_count": 1,
   "metadata": {},
   "outputs": [
    {
     "name": "stdout",
     "output_type": "stream",
     "text": [
      "Datos originales de dimensionalidad (426, 30)\n"
     ]
    }
   ],
   "source": [
    "import numpy as np\n",
    "import matplotlib.pyplot as plt\n",
    "from sklearn.datasets import load_breast_cancer\n",
    "from sklearn.model_selection import train_test_split\n",
    "\n",
    "# En esta ocasión leeremos el dataset como un dataframe de pandas\n",
    "dataset = load_breast_cancer(as_frame=True)\n",
    "data_train, data_test, target_train, target_test = train_test_split(\n",
    "    dataset['data'], \n",
    "    dataset['target'], \n",
    "    test_size=0.25,\n",
    "    random_state=10\n",
    ")\n",
    "print(f\"Datos originales de dimensionalidad {data_train.shape}\")"
   ]
  },
  {
   "attachments": {},
   "cell_type": "markdown",
   "metadata": {},
   "source": [
    "Podemos imprimir los primeros tres renglones de nuestros datos. Esto nos sevirá para identificar como son los datos originales antes de aplicar la reducción de dimensionalidad"
   ]
  },
  {
   "cell_type": "code",
   "execution_count": 2,
   "metadata": {},
   "outputs": [
    {
     "name": "stdout",
     "output_type": "stream",
     "text": [
      "Caracteristicas\n",
      "     mean radius  mean texture  mean perimeter  mean area  mean smoothness  \\\n",
      "327        12.03         17.93           76.09      446.0          0.07683   \n",
      "60         10.17         14.88           64.55      311.9          0.11340   \n",
      "260        20.31         27.06          132.90     1288.0          0.10000   \n",
      "\n",
      "     mean compactness  mean concavity  mean concave points  mean symmetry  \\\n",
      "327           0.03892        0.001546             0.005592         0.1382   \n",
      "60            0.08061        0.010840             0.012900         0.2743   \n",
      "260           0.10880        0.151900             0.093330         0.1814   \n",
      "\n",
      "     mean fractal dimension  ...  worst radius  worst texture  \\\n",
      "327                 0.06070  ...         13.07          22.25   \n",
      "60                  0.06960  ...         11.02          17.45   \n",
      "260                 0.05572  ...         24.33          39.16   \n",
      "\n",
      "     worst perimeter  worst area  worst smoothness  worst compactness  \\\n",
      "327            82.74       523.4            0.1013            0.07390   \n",
      "60             69.86       368.6            0.1275            0.09866   \n",
      "260           162.30      1844.0            0.1522            0.29450   \n",
      "\n",
      "     worst concavity  worst concave points  worst symmetry  \\\n",
      "327         0.007732               0.02796          0.2171   \n",
      "60          0.021680               0.02579          0.3557   \n",
      "260         0.378800               0.16970          0.3151   \n",
      "\n",
      "     worst fractal dimension  \n",
      "327                  0.07037  \n",
      "60                   0.08020  \n",
      "260                  0.07999  \n",
      "\n",
      "[3 rows x 30 columns]\n"
     ]
    }
   ],
   "source": [
    "# Visualizar las primeras tres filas\n",
    "print(\"Caracteristicas\")\n",
    "print(data_train.head(3))"
   ]
  },
  {
   "cell_type": "code",
   "execution_count": 3,
   "metadata": {},
   "outputs": [
    {
     "name": "stdout",
     "output_type": "stream",
     "text": [
      "Etiquetas\n",
      "327    1\n",
      "60     1\n",
      "260    0\n",
      "504    1\n",
      "544    1\n",
      "367    1\n",
      "139    1\n",
      "119    0\n",
      "226    1\n",
      "499    0\n",
      "Name: target, dtype: int32\n"
     ]
    }
   ],
   "source": [
    "print(\"Etiquetas\")\n",
    "print(target_train.head(10))"
   ]
  },
  {
   "attachments": {},
   "cell_type": "markdown",
   "metadata": {},
   "source": [
    "## 2. Implementación de PCA\n",
    "Para entender los conceptos vistos en clase, comenzaremos utilizando solo 2 variables de cada muestra. Es decir, aplicaremos PCA a los datos anteriores para analizar la relevancia de los atributos según las asunciones de PCA.\n",
    "1. Aprenderemos como trasladar los puntos al centro para que tengan una promedio de 0\n",
    "2. Obtendremos la matriz de covarianza de nuestros datos\n",
    "3. Veremos los eigenvalues en la gráfica"
   ]
  },
  {
   "cell_type": "code",
   "execution_count": 19,
   "metadata": {},
   "outputs": [
    {
     "data": {
      "text/plain": [
       "<matplotlib.legend.Legend at 0x26cb088df70>"
      ]
     },
     "execution_count": 19,
     "metadata": {},
     "output_type": "execute_result"
    },
    {
     "data": {
      "image/png": "[encoded data removed]",
      "text/plain": [
       "<Figure size 400x400 with 1 Axes>"
      ]
     },
     "metadata": {},
     "output_type": "display_data"
    }
   ],
   "source": [
    "# Nos quedamos solo con los componentes \"mean radius\" y \"mean texture\"\n",
    "X = data_train[[\"mean radius\", \"mean texture\"]].to_numpy()\n",
    "\n",
    "fig, ax = plt.subplots(1, 1, figsize=(4, 4))\n",
    "ax.set_title(\"Muestras originales\")\n",
    "ax.axis('equal')\n",
    "\n",
    "# En el siguiente forloop graficamos de manera separada los puntos de distintas clases\n",
    "# En este contexto, los puntos de diferentes clases se muestran en un color distinto.\n",
    "for c in range(2):\n",
    "    # TODO: Selecciona los valores de X que corresponden a la clase c\n",
    "    # es decir, X cuando la etiqueta target_train == c\n",
    "    # === Start solution ==== #\n",
    "    class_datapoints = X[target_train == c]\n",
    "    # === End solution ==== #\n",
    "    ax.scatter(\n",
    "        class_datapoints[:, 0],  # Todos los datos de clase c, columna de atributo 1\n",
    "        class_datapoints[:, 1],  # Todos los datos de clase c, columna de atributo 2\n",
    "        label = f\"class {c}\"\n",
    "    )\n",
    "ax.set_xlabel(\"Mean radius\")\n",
    "ax.set_ylabel(\"Mean texture\")\n",
    "# Imprimirá el origen\n",
    "ax.scatter(0, 0, c=\"black\", marker=\"+\")\n",
    "ax.legend()"
   ]
  },
  {
   "attachments": {},
   "cell_type": "markdown",
   "metadata": {},
   "source": [
    "### 2.1 Datos con media cero\n",
    "En la imagen observamos que se encuentran desplazados del origen (representado con un '+' negro). Recuerda que PCA asume que los datos tienen una media de cero. Entonces, para poder aplicar la proyección de PCA primero necesitamos restar la media de nuestros puntos para moverlos alrededor del origen. Como nuestros datos tienen dimensionalidad, nuestra media tambien la tendrá.\n",
    "\n",
    "$X \\in \\mathbb{R}^{N \\times D}$\n",
    "\n",
    "$\\mu \\in \\mathbb{R}^{D}$\n",
    "\n",
    "$\\mu  = \\left[\\begin{matrix} \n",
    "                \\frac{1}{N} \\sum_{i=1}^{N}{X[i, 0]} \\\\\n",
    "                \\frac{1}{N} \\sum_{i=1}^{N}{X[i, 1]}  \\\\\n",
    "                \\dots \\\\\n",
    "                \\frac{1}{N} \\sum_{i=1}^{N}{X[i, D]}  \\\\\n",
    "                \\end{matrix} \\right]$\n",
    "\n",
    "Completa el método siguiente:"
   ]
  },
  {
   "cell_type": "code",
   "execution_count": 16,
   "metadata": {},
   "outputs": [
    {
     "name": "stdout",
     "output_type": "stream",
     "text": [
      "media shape (426, 2)\n"
     ]
    }
   ],
   "source": [
    "def get_zero_mean_data(X):\n",
    "    # TODO: Restale a X el valor promedio de todos los puntos\n",
    "    # Recuerda que X.shape = (N, 2) por lo que \n",
    "    # a cada punto N tienes que restarle el promedio de X[:, 0] a la primera dimensión\n",
    "    # y el promedio de X[:, 1] a la segunda dimensión.\n",
    "    # Consejo: Investiga el uso del atributo 'axis' para la función np.mean\n",
    "    # ======== START SOLUTION =======\n",
    "    mean1 = np.mean(X[:,0])\n",
    "    mean2 = np.mean(X[:,1])\n",
    "    X_proc = X - mean1 - mean2\n",
    "    # ========= END SOLUTION ======== \n",
    "    return X_proc\n",
    "\n",
    "# Asegúrate de que el valor que imprima sea de (N, D) = (426, 2)\n",
    "# Y que los datos de media cero esten asignados a X_proc\n",
    "X = data_train[[\"mean radius\", \"mean texture\"]].to_numpy()\n",
    "X_proc = get_zero_mean_data(X)\n",
    "print(\"media shape\", X_proc.shape)"
   ]
  },
  {
   "attachments": {},
   "cell_type": "markdown",
   "metadata": {},
   "source": [
    "Una vez calculado lo anterior, podemos graficar nuestros nuevos datos con media cero. Corre la siguiente celda para visualizar tus nuevos datos"
   ]
  },
  {
   "cell_type": "code",
   "execution_count": 17,
   "metadata": {},
   "outputs": [
    {
     "data": {
      "text/plain": [
       "<matplotlib.legend.Legend at 0x26cb1eabcd0>"
      ]
     },
     "execution_count": 17,
     "metadata": {},
     "output_type": "execute_result"
    },
    {
     "data": {
      "image/png": "[encoded data removed]",
      "text/plain": [
       "<Figure size 800x400 with 2 Axes>"
      ]
     },
     "metadata": {},
     "output_type": "display_data"
    }
   ],
   "source": [
    "# ============= Muestras originales ==============\n",
    "fig, (ax1, ax2) = plt.subplots(1, 2, figsize=(8, 4))\n",
    "ax1.set_title(\"Muestras originales\")\n",
    "ax1.axis('equal')\n",
    "for c in range(2):\n",
    "    class_datapoints = X[target_train == c]\n",
    "    ax1.scatter(\n",
    "        class_datapoints[:, 0], \n",
    "        class_datapoints[:, 1], \n",
    "        label = f\"class {c}\"\n",
    "    )\n",
    "ax1.set_xlabel(\"Mean radius\")\n",
    "ax1.set_ylabel(\"Mean texture\")\n",
    "ax1.scatter(0, 0, c=\"black\", marker=\"+\")\n",
    "ax1.legend()\n",
    "\n",
    "\n",
    "# Nuevos datos\n",
    "ax2.set_title(\"Muestras con media de 0\")\n",
    "ax2.axis('equal')\n",
    "ax2.scatter(0, 0, c=\"black\", marker=\"+\")\n",
    "# Grafica los datos y veras la figura desplazada hacia el origen\n",
    "for c in range(2):\n",
    "    ax2.scatter(\n",
    "        X_proc[:, 0][target_train == c], \n",
    "        X_proc[:, 1][target_train == c], \n",
    "        label = f\"class {c}\"\n",
    "    )\n",
    "ax2.legend()\n",
    "# Imprimirá el origen\n",
    "ax2.scatter(0, 0, c=\"black\", marker=\"+\")\n",
    "ax2.legend()"
   ]
  },
  {
   "attachments": {},
   "cell_type": "markdown",
   "metadata": {},
   "source": [
    "###  2.2-3 Direcciones de proyección y la matríz de covarianza\n",
    "En clase vimos que la solución de PCA está dada por los vectores propios de la matriz de covarianza. Ya que estós determinan la mejor dirección de proyección según las asunciones del método.\n",
    "\n",
    "En la siguiente celda, termina el método para calcular los valores y vectores propios de la matríz de covarianza.\n",
    "Recuerda que los vectores propios $v \\in \\mathbb{R}^{D \\times D}$ donde $v[:, i] \\forall i = {0,1, \\dots, D}$ corresponde al vector (columna) propio $v_i$. Asegúrate de que tu método regrese los vectores de dimensionalidad correcta"
   ]
  },
  {
   "cell_type": "code",
   "execution_count": null,
   "metadata": {},
   "outputs": [],
   "source": [
    "def get_sorted_eigvectors(X):\n",
    "    '''\n",
    "        Calcula los vectores y valores propios de una matriz con media cero X\n",
    "        args:\n",
    "            - X  (np.ndarray): Matriz de datos con media cero de dimensionalidad N x D\n",
    "        returns:\n",
    "            - eigenvectors (np.ndarray): vectores propios de la matriz de cov. de X.  Dimensionalidad de D x D\n",
    "            - eigenvalues (np.ndarray, dtype=float): valores propios de la matriz de cov. de X en el mismo orden que los vectores propios\n",
    "    '''\n",
    "    # Estimaremos una matriz de covarianza para los puntos con\n",
    "    # promedio de 0 y desviacion estandar de 1\n",
    "    sample_cov = np.cov(X, rowvar=0)\n",
    "    # TODO: Calcula los valores y vectores propios de la matriz de covarianza\n",
    "    # Utiliza np.linalg.eig()\n",
    "    # =========== Start solution ==============\n",
    "    eigenvalues, eigenvectors = ...\n",
    "    # =========== End solution ================\n",
    "\n",
    "    # La sig. linea regresa los índices de los eigenvalues en orden del mayor al menor eigenvalue\n",
    "    # [::-1] invierte el orden (osea si argsort regresa del menor al mayor ...\n",
    "    # ... usar [::-1] hace que regrese de mayor a menor)\n",
    "    idx_ordered =  np.argsort(eigenvalues)[::-1]\n",
    "\n",
    "    # TODO: Ordena los eigenvalues y eigenvectors de mayor a menor eigenvalue\n",
    "    # Utiliza los índices previamente calculados\n",
    "    # regresa los eigenvectors y eigenvalues en el orden indicado\n",
    "    # =========== Start solution ==============\n",
    "\n",
    "    # =========== End solution ================\n",
    "    return eigenvectors, eigenvalues\n",
    "\n",
    "# Nos quedamos solo con los componentes \"mean radius\" y \"mean texture\"\n",
    "X = data_train[[\"mean radius\", \"mean texture\"]].to_numpy()\n",
    "X_proc = get_zero_mean_data(X)\n",
    "# Tomar los eigenvectors y eigenvalues de la matriz de covarianza\n",
    "eigvecs, eigvals = get_sorted_eigvectors(X)\n",
    "assert eigvecs.shape == (2,2), f\"eigvecs.shape de dimensionalidad {eigvecs.shape} debería ser (2x2)\"\n",
    "print(\"Vectores propios de dimensionalidad:\", eigvecs.shape)\n",
    "\n",
    "# TODO: Proyecta los datos de media cero a los primeros dos vectores propios\n",
    "# y asigna el resultado a X_proj\n",
    "# =========== Start solution ==============\n",
    "X_proj = ...\n",
    "# =========== End solution ================\n",
    "\n",
    "assert X_proj.shape == (len(X),2), f\"X_proj.shape de dimensionalidad {X_proj.shape} debería ser ({len(X)}x2)\"\n",
    "print(\"Proyección de dimensionalidad:\", X_proj.shape)\n"
   ]
  },
  {
   "attachments": {},
   "cell_type": "markdown",
   "metadata": {},
   "source": [
    "Corre la siguiente celda para visualizar los vectores propios sobrepuestos a tus datos originales y a los datos proyectados a la base dada por los mismos."
   ]
  },
  {
   "cell_type": "code",
   "execution_count": null,
   "metadata": {},
   "outputs": [],
   "source": [
    "fig, (ax1, ax2) = plt.subplots(1, 2, figsize=(9, 4))\n",
    "# ============= Datos con media cero ==============\n",
    "ax1.set_title(\"Visualización de vectores propios\")\n",
    "ax1.axis('equal')\n",
    "# Graficamos los datos de nuevp\n",
    "for c in range(2):\n",
    "    ax1.scatter(\n",
    "        X_proc[:, 0][target_train == c], \n",
    "        X_proc[:, 1][target_train == c], \n",
    "        label = f\"class {c}\"\n",
    "    )\n",
    "# Graficamos los vectores sobrepuestos a los datos en el ax anterior\n",
    "for idx_col in range(eigvals.shape[0]):\n",
    "    norm_eig = np.sqrt(eigvals[idx_col])\n",
    "    start_point = [0, 0]\n",
    "    end_point = eigvecs[:, idx_col] * norm_eig\n",
    "    ax1.arrow(*start_point, *end_point, width = 0.03, head_width = 0.6)\n",
    "ax1.legend()\n",
    "ax1.scatter(0, 0, c=\"black\", marker=\"+\")\n",
    "\n",
    "# ============= Muestras proyectadas ==============\n",
    "ax2.set_title(\"Muestras proyectadas en eigenvectors\")\n",
    "ax2.axis('equal')\n",
    "ax2.scatter(0, 0, c=\"black\", marker=\"+\")\n",
    "for c in range(2):\n",
    "    ax2.scatter(\n",
    "        X_proj[:, 0][target_train == c], \n",
    "        X_proj[:, 1][target_train == c], \n",
    "        label = f\"class {c}\"\n",
    "    )\n",
    "# Graficamos los vectores sobrepuestos a los datos en el ax anterior\n",
    "end_pts = np.array([[1,0],[0,1]])\n",
    "for idx_col in range(eigvals.shape[0]):\n",
    "    norm_eig = np.sqrt(eigvals[idx_col])\n",
    "    start_point = [0, 0]\n",
    "    end_point = end_pts[idx_col] * norm_eig\n",
    "    ax2.arrow(*start_point, *end_point, width = 0.03, head_width = 0.6)\n",
    "ax2.scatter(0, 0, c=\"black\", marker=\"+\")\n",
    "ax2.legend()"
   ]
  },
  {
   "attachments": {},
   "cell_type": "markdown",
   "metadata": {},
   "source": [
    "## 3. Comparación con la librería de scikit learn\n",
    "En la siguiente sección compararemos tu implementación de PCA con la de scikit learn. Primero analizaremos proyectar datos de dos dimensiones en 1, y después proyectaremos nuestros datos de 10 variables a 2 para poder visualizarlos.\n",
    "\n",
    "### Usando PCA para reducir 2 dimensiones a 1\n",
    "En las siguientes celdas filtraremos los datos para inicialmente trabajar con 2 dimensiones. Después utilizaremos los métodos que anteriormente definiste (`get_zero_mean_data` & `get_sorted_eigenvectors`) para comparar tu implementación de PCA con la de scikit-learn.\n",
    "\n",
    "La siguiente celda define un método que normaliza los datos (resta la media y escala los datos) para poder proyectarlos a los eigenvectors calculados por `get_sorted_eigenvectors`"
   ]
  },
  {
   "cell_type": "code",
   "execution_count": null,
   "metadata": {},
   "outputs": [],
   "source": [
    "def norm_data(X):\n",
    "    mean = X.mean(0)\n",
    "    std = X.std(0)\n",
    "    X_proc = (X - mean)\n",
    "    new_data = X_proc / std\n",
    "    return new_data"
   ]
  },
  {
   "attachments": {},
   "cell_type": "markdown",
   "metadata": {},
   "source": [
    "Corre la siguiente celda, analiza la imagen y responde:\n",
    "\n",
    "\\# TODO:\n",
    "Para la tarea de clasificación ¿Cual vector propio crees que te permita separar mejor los datos al proyectarse en el? Explica tu intuición."
   ]
  },
  {
   "cell_type": "code",
   "execution_count": null,
   "metadata": {},
   "outputs": [],
   "source": [
    "feat1, feat2 = \"mean radius\", \"mean compactness\"\n",
    "labels = target_train\n",
    "X = data_train[[feat1, feat2]].to_numpy()\n",
    "X = norm_data(X)\n",
    "print(X.shape)\n",
    "\n",
    "eigvecs, eigvals = get_sorted_eigvectors(X)\n",
    "print(eigvecs.shape)\n",
    "\n",
    "# ========== Graficas ===============\n",
    "fig, ax = plt.subplots(1, 1, figsize=(3, 3))\n",
    "# Espacio original\n",
    "for c in range(2):\n",
    "    ax.scatter(\n",
    "        X[:, 0][labels == c], \n",
    "        X[:, 1][labels == c], \n",
    "        label = f\"class {c}\"\n",
    "    )\n",
    "\n",
    "# Graficamos los vectores sobrepuestos a los datos en el ax anterior\n",
    "for idx_col in range(eigvals.shape[0]):\n",
    "    norm_eig = np.sqrt(eigvals[idx_col])\n",
    "    start_point = np.mean(X, axis=0)\n",
    "    end_point = eigvecs[:, idx_col] * norm_eig\n",
    "    ax.arrow(*start_point, *end_point, width = 0.03, head_width = 0.3)\n",
    "ax.axis('equal')\n",
    "ax.set_title('Datos con media cero')\n",
    "ax.set_xlabel(feat1)\n",
    "ax.set_ylabel(feat2)"
   ]
  },
  {
   "attachments": {},
   "cell_type": "markdown",
   "metadata": {},
   "source": [
    "#### Proyección a una dimensión\n",
    "Ahora que has visto tus datos considerando solo dos variables distintas. Vamos a proyectar los datos a ambos vectores propios para visualizar como se verían en 1 sola dimensión. \n",
    "\n",
    "Esto nos permite para analizar que proyección permite mejor separabilidad de los datos para la tarea de clasificación. Recuerda que los vectores propios $v \\in \\mathbb{R}^{D \\times D}$ donde $v[:, i] \\forall i = \\{0,1, \\dots, D\\}$ corresponde al vector (columna) propio $v_i$.\n",
    "\n",
    "\\#TODO:\n",
    "\n",
    "Corre las siguientes dos celdas y responde:\n",
    "\n",
    "En este caso, ¿se cumple la asunción de PCA de que el primer componente principal mantiene la información más importante?"
   ]
  },
  {
   "cell_type": "code",
   "execution_count": null,
   "metadata": {},
   "outputs": [],
   "source": [
    "normed_data_train = norm_data(data_train)\n",
    "# Datos normalizados (media cero y misma escala)\n",
    "X = normed_data_train[[feat1, feat2]].to_numpy()\n",
    "eigvecs, eigvals = get_sorted_eigvectors(X)\n",
    "\n",
    "# ========= TU Solución ============#\n",
    "# TODO: Proyecta los datos al primer componente principal eigvecs[:,0]\n",
    "# =========== Start solution ==============\n",
    "X_proj1 = ...\n",
    "\n",
    "# TODO: Proyecta los datos al segundo componente principal eigvecs[:,1]\n",
    "X_proj2 = ...\n",
    "# =========== End solution ================= \n",
    "\n",
    "\n",
    "# ========= Solución de scikit learn ============#\n",
    "from sklearn.decomposition import PCA\n",
    "# TODO: Utiliza la libreria de scikit-learn para reducir X a 1 dimensión\n",
    "# Invesitga PCA en scikit learn. Asigna el resultado a reduced_x\n",
    "# =========== Start solution ==============\n",
    "reduced_x = ...\n",
    "# =========== End solution ================= "
   ]
  },
  {
   "cell_type": "code",
   "execution_count": null,
   "metadata": {},
   "outputs": [],
   "source": [
    "# Recuerda siempre correr la celda anterior antes de correr esta\n",
    "fig, (ax1, ax2, ax3, ax4) = plt.subplots(1, 4, figsize=(15, 3))\n",
    "# Espacio original\n",
    "for c in range(2):\n",
    "    ax1.scatter(\n",
    "        X[:, 0][labels == c], \n",
    "        X[:, 1][labels == c], \n",
    "        label = f\"class {c}\"\n",
    "    )\n",
    "\n",
    "# Graficamos los vectores sobrepuestos a los datos en el ax anterior\n",
    "for idx_col in range(eigvals.shape[0]):\n",
    "    norm_eig = np.sqrt(eigvals[idx_col])\n",
    "    start_point = np.mean(X, axis=0)\n",
    "    end_point = eigvecs[:, idx_col] * norm_eig\n",
    "    ax1.arrow(*start_point, *end_point, width = 0.03, head_width = 0.3)\n",
    "ax1.axis('equal')\n",
    "ax1.set_title('Datos con media cero')\n",
    "ax1.set_xlabel(feat1)\n",
    "ax1.set_ylabel(feat2)\n",
    "\n",
    "for c in range(2):\n",
    "    class_data = X_proj1[labels == c]\n",
    "    N_samples = len(class_data)\n",
    "    ax2.scatter(\n",
    "        class_data, \n",
    "        np.zeros(N_samples), \n",
    "        label = f\"class {c}\"\n",
    "    )\n",
    "ax2.set_title('Proyección al 1er CP')\n",
    "\n",
    "for c in range(2):\n",
    "    class_data = X_proj2[labels == c]\n",
    "    N_samples = len(class_data)\n",
    "    ax3.scatter(\n",
    "        class_data, \n",
    "        np.zeros(N_samples), \n",
    "        label = f\"class {c}\"\n",
    "    )\n",
    "ax3.set_title('Proyección al 2do CP')\n",
    "\n",
    "\n",
    "## Solución de scikit-learn (1 dim)\n",
    "# plot reduced data\n",
    "for c in range(2):\n",
    "    class_idx = np.where(target_train == c)[0]\n",
    "    N_samples = len(class_idx)\n",
    "    ax4.scatter(\n",
    "        reduced_x[class_idx][:,0],\n",
    "        np.zeros(N_samples),\n",
    "        label = f\"class {c}\"\n",
    "    )\n",
    "ax4.set_title('Solución de scikit-learn (1 dimensión)')\n",
    "\n",
    "plt.show()"
   ]
  },
  {
   "attachments": {},
   "cell_type": "markdown",
   "metadata": {},
   "source": [
    "Ahora que has visto como proyectar tus datos a distintos componentes principales. Implementa el método de mi_PCA usando las funciones anteriormente deifindas. Para ello proyecta los datos a los primeros `n_components` vectores propios y regresa el resultado de la proyección"
   ]
  },
  {
   "cell_type": "code",
   "execution_count": null,
   "metadata": {},
   "outputs": [],
   "source": [
    "def mi_PCA(data, n_components=1):\n",
    "    zero_mean = get_zero_mean_data(data)\n",
    "    eigvecs, eigvals = get_sorted_eigvectors(zero_mean)\n",
    "    # TODO: proyecta los datos a los primeros n_components vectores propios y regresa el resultado\n",
    "    # =========== Start solution ==============\n",
    "    x_proj = ...\n",
    "    # =========== End solution ================= \n",
    "    return x_proj\n",
    "\n",
    "# Prueba tu solución\n",
    "X = data_train.to_numpy()\n",
    "for output_dims in range(1,4):\n",
    "    reduced_x_mine = mi_PCA(X, output_dims)\n",
    "    assert reduced_x_mine.shape == (len(X),output_dims), f\"X_proj.shape de dimensionalidad {reduced_x_mine.shape} debería ser ({len(X)}x{output_dims})\"\n",
    "    print(f\"Mi solución: Datos originales {X.shape}, Datos proyectados para {output_dims} dims: {reduced_x_mine.shape}\")"
   ]
  },
  {
   "attachments": {},
   "cell_type": "markdown",
   "metadata": {},
   "source": [
    "## 4. Usando PCA para reducir 30 dimensiones a 2\n",
    "\n",
    "En la sección anterior, filtramos nuestros datos originales para quedarnos solo con dos variables. En esta sección consideramos los datos en su estado original, es decir con las 30 variables de entrada. Por su puesto, es imposible visualizarlso de esta forma, por lo tanto usaremos PCA para reducir la dimensionalidad de los datos originales a solo 2 dimensiones para poder visualizarlos.\n",
    "\n",
    "Usando PCA podemos transformar un dataset de $D$ variables proyectándolos a los $K$ vectores propios con los mayores valores propios perdiendo la menor información posible. De esta manera PCA mapea.\n",
    "\n",
    "$X_{orig} \\in \\mathbb{R}^{N \\times D} \\mapsto X_{reduced} \\in \\mathbb{R}^{N \\times 2}$\n",
    "\n",
    "Podemos resolver problema utilizando tu implementación y las librerias de scikit-learn. Ambas deberían generar una distribución de datos muy similar."
   ]
  },
  {
   "cell_type": "code",
   "execution_count": null,
   "metadata": {},
   "outputs": [],
   "source": [
    "X = data_train.to_numpy()\n",
    "output_dims = 2\n",
    "# ============= TU solución ===============\n",
    "# TODO: Reduce los datos en X a output_dims usando tu implementación de mi_PCA(data, n_components=...)\n",
    "reduced_x_mine = ...\n",
    "# =========== End solution ================= \n",
    "print(f\"Mi solución: Datos originales {X.shape}, Datos proyectados {reduced_x_mine.shape}\")\n",
    "\n",
    "# ============= Solución  de scikit-learn ===============\n",
    "from sklearn.decomposition import PCA\n",
    "# TODO: Reduce los datos en X a output_dims usando la implementación de sciki-learn\n",
    "reduced_x_lib = ...\n",
    "# =========== End solution ================= \n",
    "print(f\"Scikit learn: Datos originales {X.shape}, Datos proyectados {reduced_x_lib.shape}\")"
   ]
  },
  {
   "cell_type": "code",
   "execution_count": null,
   "metadata": {},
   "outputs": [],
   "source": [
    "# Graficamos los datos de nuestra solución\n",
    "fig, (ax1, ax2) = plt.subplots(1, 2, figsize=(12, 4))\n",
    "for c in range(2):\n",
    "    ax1.scatter(\n",
    "        reduced_x_mine[:, 0][target_train == c], \n",
    "        reduced_x_mine[:, 1][target_train == c], \n",
    "        label = f\"class {c}\"\n",
    "    )\n",
    "ax1.set_title(\"Mi solución\")\n",
    "ax1.legend()\n",
    "\n",
    "# plot reduced data\n",
    "for c in range(2):\n",
    "    class_idx = np.where(target_train == c)\n",
    "    ax2.scatter(\n",
    "        reduced_x_lib[class_idx, 0],\n",
    "        reduced_x_lib[class_idx, 1],\n",
    "        label = f\"class {c}\"\n",
    "    )\n",
    "ax2.set_title(\"La solución de scikit-learn\")\n",
    "ax2.legend()"
   ]
  },
  {
   "attachments": {},
   "cell_type": "markdown",
   "metadata": {},
   "source": [
    "### Otros métodos de reducción de dimensionalidad\n",
    "\n",
    "Como PCA, existen otras alternativas para reducir la dimensionalidad de los datos. Una muy popular es el algoritmo de TSNE.\n",
    "Mientras que ambos métodos sirven el mismo propósito, se utilizan en situaciones distintas. PCA normalmente se utiliza cuando queremos reducir dimensionalidades muy altas, a unas pequeñas por ejemplo reducir de 100 a 50 o 10 dimensiones. \n",
    "\n",
    "Por otro lado TSNE funciona bien cuando tenemos una dimensionalidad relativamente baja (entre 20 y 5 por ejemplo) y queremos reducirla a una más pequeña para poder visualizar nuestros datos (por ejemplo 3,2 o 1).\n",
    "\n",
    "TSNE tiene un hiperparámetro adicional a la cantidad de componentes de salida, llamado \"perplexidad\". Si te interesa conocer más sobre TSNE puedes revisar la [documentación de sci-kit learn](https://scikit-learn.org/stable/modules/generated/sklearn.manifold.TSNE.html).\n",
    "\n",
    "Corre la siguiente celda para visualizar como TSNE reduce las 30 dimensiones de nuestros datos originales a 2"
   ]
  },
  {
   "cell_type": "code",
   "execution_count": null,
   "metadata": {},
   "outputs": [],
   "source": [
    "from sklearn.manifold import TSNE\n",
    "# Convertimos nuestros datos de entrenamiento a un arreglo de numpy\n",
    "\n",
    "# Nuestra matriz de datos tiene 712 datos con 8 variables.\n",
    "X = data_train.to_numpy()\n",
    "tsne = TSNE(n_components=2, perplexity=50)\n",
    "reduced_x = tsne.fit_transform(X)\n",
    "print(reduced_x.shape)\n",
    "\n",
    "# plot reduced data\n",
    "fig, ax = plt.subplots(figsize=(8, 5))\n",
    "for c in range(2):\n",
    "    class_idx = np.where(target_train == c)\n",
    "    ax.scatter(\n",
    "        reduced_x[class_idx, 0],\n",
    "        reduced_x[class_idx,1], \n",
    "        label = f\"class {c}\"\n",
    "    )\n",
    "ax.legend()"
   ]
  },
  {
   "attachments": {},
   "cell_type": "markdown",
   "metadata": {},
   "source": [
    "## 5. Reducción de dimensionalidad aplicado a tareas adicionales\n",
    "PCA normalmente se utiliza cuando queremos visualizar lo que ha aprendido nuestro algoritmo para entradas de alta dimensionalidad. Tenemos dos opciones\n",
    "\n",
    "1. Podemos entrenar con el dataset reducido un algoritmo de clasificación, como regresión logística.\n",
    "2. Podemos entrenar regresión logística en alta dimensionalidad y usar PCA para reducir la dimensionalidad y visualizar el resultado.\n",
    "\n",
    "Corre las siguientes celdas para observar como funciona (:"
   ]
  },
  {
   "cell_type": "code",
   "execution_count": null,
   "metadata": {},
   "outputs": [],
   "source": [
    "from sklearn.manifold import TSNE\n",
    "from sklearn.decomposition import PCA\n",
    "\n",
    "# Podemos utilizar diferentes algoritmos de reducción de datos como TSNE\n",
    "# Aquí definimos un método para seleccionar que algoritmo usar\n",
    "# para reducir la dimensionalidad de nuestros datos\n",
    "def reduce_data(data, method='PCA', output_dims=2):\n",
    "    if method == 'TSNE':\n",
    "        tsne = TSNE(n_components=output_dims, perplexity=50)\n",
    "        reduced_x = tsne.fit_transform(data)\n",
    "    elif method == 'PCA':\n",
    "        pca = PCA(n_components=output_dims)\n",
    "        reduced_x = pca.fit_transform(data)\n",
    "    else:\n",
    "        print(\"Método no disponible %s\" %method)\n",
    "        reduced_x = data\n",
    "    return reduced_x"
   ]
  },
  {
   "attachments": {},
   "cell_type": "markdown",
   "metadata": {},
   "source": [
    "### 5.1. Entrenar en datos reducidos"
   ]
  },
  {
   "cell_type": "code",
   "execution_count": null,
   "metadata": {},
   "outputs": [],
   "source": [
    "from sklearn.manifold import TSNE\n",
    "from sklearn.linear_model import LogisticRegression\n",
    "\n",
    "# Train set\n",
    "X = data_train.to_numpy()\n",
    "y = target_train.to_numpy()\n",
    "\n",
    "# Test set\n",
    "X_test = data_test.to_numpy()\n",
    "y_test = target_test.to_numpy()\n",
    "\n",
    "# Metodos\n",
    "methods = ['PCA', 'TSNE']\n",
    "fig1, axes_pred = plt.subplots(1, len(methods), figsize=(10, 3))\n",
    "fig2, axes_correct = plt.subplots(1, len(methods), figsize=(10, 3))\n",
    "\n",
    "for method, ax_pred, ax_correct in zip(methods, axes_pred, axes_correct):\n",
    "    reduced_x = reduce_data(X, method=method, output_dims=2)\n",
    "    print(f\"Reducción de {X.shape} a {reduced_x.shape}\")\n",
    "    clf = LogisticRegression(random_state=0).fit(reduced_x, y)\n",
    "    pred = clf.predict(reduced_x)\n",
    "    error = np.sum(np.abs(y - pred)) / X.shape[0]\n",
    "    print(f\"Reg. logística train, reducción {method}, error de entrenamiento: {error}\")\n",
    "\n",
    "    reduced_x_test = reduce_data(X_test, method=method, output_dims=2)\n",
    "    pred = clf.predict(reduced_x_test)\n",
    "    error = np.mean(np.abs(y_test - pred))\n",
    "    print(f\"Reg. logística test {reduced_x_test.shape}, reducción {method}, error de prueba: {error}\")\n",
    "\n",
    "    # Graficar predicciones del método\n",
    "    for c in range(2):\n",
    "        class_idx = np.where(pred == c)\n",
    "        ax_pred.scatter(\n",
    "            reduced_x_test[class_idx, 0],\n",
    "            reduced_x_test[class_idx,1], \n",
    "            label = f\"class {c}\"\n",
    "        )\n",
    "    \n",
    "    # Graficar en que puntos predijo correctamente la clase\n",
    "    puntos = {\"correcto\":{\n",
    "                    \"indices\": np.where(pred == y_test),\n",
    "                    \"color\": 'green'},\n",
    "             \"incorrecto\":{\n",
    "                    \"indices\": np.where(pred != y_test),\n",
    "                    \"color\": 'red'}\n",
    "             }\n",
    "    for label, info in puntos.items():\n",
    "        ax_correct.scatter(\n",
    "            reduced_x_test[info[\"indices\"], 0],\n",
    "            reduced_x_test[info[\"indices\"],1], \n",
    "            label = label,\n",
    "            color = info[\"color\"]\n",
    "        )\n",
    "\n",
    "    # Visualización de clases\n",
    "    fig1.suptitle(\"Clases\")\n",
    "    ax_pred.set_title(f\"Visualización con {method}\")\n",
    "    ax_pred.legend()\n",
    "\n",
    "    # Visualización de correcto vs incorrecto\n",
    "    fig2.suptitle(\"Clases clasificadas correcta/incorrectamente\")\n",
    "    ax_correct.set_title(f\"Visualización con {method}\")\n",
    "    ax_correct.legend()\n",
    "plt.show()"
   ]
  },
  {
   "attachments": {},
   "cell_type": "markdown",
   "metadata": {},
   "source": [
    "### 5.2. Entrenar en alta dimensionalidad y reducir dimensionalidad para visualización"
   ]
  },
  {
   "cell_type": "code",
   "execution_count": null,
   "metadata": {},
   "outputs": [],
   "source": [
    "from sklearn.linear_model import LogisticRegression\n",
    "X = data_train.to_numpy()\n",
    "y = target_train.to_numpy()\n",
    "\n",
    "# Entrenamos un clasificador\n",
    "clf = LogisticRegression(random_state=0).fit(X, y)\n",
    "pred = clf.predict(X)\n",
    "error = np.sum(np.abs(y - pred)) / X.shape[0]\n",
    "print(f\"Error de entrenamiento:\", error)\n",
    "\n",
    "# Nuestros datos son de dimensionalidad 30 osea no podemos visualizar la predicción\n",
    "# Aplicamos reducción de dimensonalidad para visualizar la predicción de nuestro modelo\n",
    "# En el set de prueba\n",
    "X_test = data_test.to_numpy()\n",
    "y_test = target_test.to_numpy()\n",
    "pred = clf.predict(X_test)\n",
    "error = np.mean(np.abs(y_test - pred))\n",
    "print(f\"Reg. logística test {X_test.shape}, error de prueba: {error}\")\n",
    "\n",
    "# Aplicamos reducción de dimensonalidad para visualizar la predicción de nuestro modelo\n",
    "methods = ['PCA', 'TSNE']\n",
    "fig1, axes_pred = plt.subplots(1, len(methods), figsize=(10, 3))\n",
    "fig2, axes_correct = plt.subplots(1, len(methods), figsize=(10, 3))\n",
    "for method, ax_pred, ax_correct in zip(methods, axes_pred, axes_correct):\n",
    "    reduced_x_test = reduce_data(X_test, method=method, output_dims=2)\n",
    "    # Graficar predicciones del método\n",
    "    for c in range(2):\n",
    "        class_idx = np.where(pred == c)\n",
    "        ax_pred.scatter(\n",
    "            reduced_x_test[class_idx, 0],\n",
    "            reduced_x_test[class_idx,1], \n",
    "            label = f\"class {c}\"\n",
    "        )\n",
    "    \n",
    "    # Graficar en que puntos predijo correctamente la clase\n",
    "    puntos = {\"correcto\":{\n",
    "                    \"indices\": np.where(pred == y_test),\n",
    "                    \"color\": 'green'},\n",
    "             \"incorrecto\":{\n",
    "                    \"indices\": np.where(pred != y_test),\n",
    "                    \"color\": 'red'}\n",
    "             }\n",
    "    for label, info in puntos.items():\n",
    "        ax_correct.scatter(\n",
    "            reduced_x_test[info[\"indices\"], 0],\n",
    "            reduced_x_test[info[\"indices\"],1], \n",
    "            label = label,\n",
    "            color = info[\"color\"]\n",
    "        )\n",
    "\n",
    "    # Visualización de clases\n",
    "    fig1.suptitle(\"Clases\")\n",
    "    ax_pred.set_title(f\"Visualización con {method}\")\n",
    "    ax_pred.legend()\n",
    "\n",
    "    # Visualización de correcto vs incorrecto\n",
    "    fig2.suptitle(\"Clases clasificadas correcta/incorrectamente\")\n",
    "    ax_correct.set_title(f\"Visualización con {method}\")\n",
    "    ax_correct.legend()\n",
    "plt.show()"
   ]
  },
  {
   "attachments": {},
   "cell_type": "markdown",
   "metadata": {},
   "source": [
    "### TODO: En base a lo anterior\n",
    "- ¿Qué puedes concluir?\n",
    "- ¿De que nos sirve reducir la dimensionalidad de los datos?\n",
    "- Para el ejemplo anterior, ¿Qué funciona mejor, entrenar en datos reducidos o en alta dimensionalidad?"
   ]
  }
 ],
 "metadata": {
  "kernelspec": {
   "display_name": "Python 3",
   "language": "python",
   "name": "python3"
  },
  "language_info": {
   "codemirror_mode": {
    "name": "ipython",
    "version": 3
   },
   "file_extension": ".py",
   "mimetype": "text/x-python",
   "name": "python",
   "nbconvert_exporter": "python",
   "pygments_lexer": "ipython3",
   "version": "3.9.13"
  },
  "orig_nbformat": 4,
  "vscode": {
   "interpreter": {
    "hash": "af810c6721ae61030b73d9de2967bfb7a3088a28e7f243bda7b2d2ca2c498323"
   }
  }
 },
 "nbformat": 4,
 "nbformat_minor": 2
}
